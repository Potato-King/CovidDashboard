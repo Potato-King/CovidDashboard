{
 "cells": [
  {
   "cell_type": "markdown",
   "metadata": {},
   "source": [
    "[DIY Covid-19 Dashboard Kit](https://github.com/fsmeraldi/diy-covid19dash) (C) Fabrizio Smeraldi, 2020 ([f.smeraldi@qmul.ac.uk](mailto:f.smeraldi@qmul.ac.uk) - [web](http://www.eecs.qmul.ac.uk/~fabri/)). This notebook is released under the [GNU GPLv3.0 or later](https://www.gnu.org/licenses/)."
   ]
  },
  {
   "cell_type": "markdown",
   "metadata": {},
   "source": [
    "# DIY Covid-19 Dashboard"
   ]
  },
  {
   "cell_type": "markdown",
   "metadata": {},
   "source": [
    "This page displays covid-19 data in interactive graph format. It is displayed using voila, a python dashboarding tool. \n",
    "\n",
    "The following steps were followed to set up the dashbaord:\n",
    " - Imported the raw data using the UK Gov's Covid-19 API\n",
    " - Assigned the raw data to a json file\n",
    " - Wrangled the data and consolidated it into a dataframe\n",
    " - Configured widgets using ipywidgets and plotted the graph using matplotlib\n",
    "\n",
    "The data shown in the graph initially is from a saved json file, however there is an option to refresh the graph using data pulled directly with the API. "
   ]
  },
  {
   "cell_type": "code",
   "execution_count": 15,
   "metadata": {},
   "outputs": [],
   "source": [
    "# Import required libraries\n",
    "from IPython.display import clear_output\n",
    "import ipywidgets as wdg\n",
    "import pandas as pd\n",
    "import numpy as np\n",
    "import matplotlib.pyplot as plt\n",
    "import json\n",
    "from uk_covid19 import Cov19API"
   ]
  },
  {
   "cell_type": "code",
   "execution_count": 16,
   "metadata": {},
   "outputs": [],
   "source": [
    "%matplotlib inline\n",
    "# Make figures larger\n",
    "plt.rcParams['figure.dpi'] = 100"
   ]
  },
  {
   "cell_type": "code",
   "execution_count": 17,
   "metadata": {},
   "outputs": [],
   "source": [
    "# Load the JSON file on dashboard start and assign the raw data as a dictionary in the jsondata variable\n",
    "with open(\"vaxvdeath.json\", \"rt\") as INFILE:\n",
    "    data=json.load(INFILE)\n",
    "jsondata={'vaxvdeath':data}\n",
    "#print(jsondata['vaxvdeath'])\n",
    "#print(jsondata)"
   ]
  },
  {
   "cell_type": "code",
   "execution_count": 18,
   "metadata": {},
   "outputs": [],
   "source": [
    "def wrangle_data(rawdata):\n",
    "# This function wrangles the data and returns a dataframe\n",
    "    datalist=(rawdata['vaxvdeath'])['data']\n",
    "    #datalist\n",
    "    \n",
    "    dates=[dictionary['date'] for dictionary in datalist ]\n",
    "    dates.sort()\n",
    "    \n",
    "    def parse_date(datestring):\n",
    "        # Convert a date string into a pandas datetime object\n",
    "        return pd.to_datetime(datestring, format=\"%Y-%m-%d\")\n",
    "\n",
    "    # Set the startdate of the index to the first date in the data, and the enddate to the last\n",
    "    startdate=parse_date(dates[0])\n",
    "    enddate=parse_date(dates[-1])\n",
    "    index=pd.date_range(startdate, enddate, freq='D')\n",
    "    #Create the dataframe\n",
    "    df1=pd.DataFrame(index=index, columns=['cases', 'firstdose', 'seconddose', 'deaths'])\n",
    "\n",
    "    # Populate the dataframe\n",
    "    for entry in datalist:\n",
    "        date=parse_date(entry['date'])\n",
    "        for column in ['cases', 'firstdose', 'seconddose', 'deaths']:\n",
    "            if pd.isna(df1.loc[date, column]): \n",
    "                #Replace any 'None' values with 0\n",
    "                value= float(entry[column]) if entry[column]!=None else 0.0\n",
    "                df1.loc[date, column]=value\n",
    "                \n",
    "    #Replace any missing values with 0.0.\n",
    "    df1.fillna(0.0, inplace=True)\n",
    "    return df1\n",
    "\n",
    "# Call the wrangle_data function on the jsondata dictionary\n",
    "vaxvdeathdf=wrangle_data(jsondata)"
   ]
  },
  {
   "cell_type": "markdown",
   "metadata": {},
   "source": [
    "## Downloading current data"
   ]
  },
  {
   "cell_type": "markdown",
   "metadata": {},
   "source": [
    "This button calls the Covid-19 API so that our graph can display the most up-to-date data. Our initial data (from the json file) only contains data from 2020. This is visible in the graph. If you click this button the graph should be updated with data from more recent years. "
   ]
  },
  {
   "cell_type": "code",
   "execution_count": 19,
   "metadata": {},
   "outputs": [],
   "source": [
    "def access_api():\n",
    "# This function calls the API (with a different filter) and returns the downloaded data\n",
    "    \"\"\" Accesses the PHE API. Return data as a like-for-like replacement for the \"canned\" data loaded from the JSON file. \"\"\"\n",
    "    filters = [\n",
    "        'areaType=nation',\n",
    "        'areaName=England'\n",
    "    ]\n",
    "    structure = {\n",
    "        \"date\": \"date\",\n",
    "        \"cases\": \"newCasesByPublishDate\",\n",
    "        \"firstdose\": \"newPeopleVaccinatedFirstDoseByPublishDate\",\n",
    "        \"seconddose\": \"newPeopleVaccinatedSecondDoseByPublishDate\",\n",
    "        \"deaths\":\"newDailyNsoDeathsByDeathDate\"\n",
    "    }\n",
    "    api = Cov19API(filters=filters, structure=structure)\n",
    "    # Parse the incoming json data and return it\n",
    "    VDdata=api.get_json()\n",
    "    return {'vaxvdeath':VDdata}"
   ]
  },
  {
   "cell_type": "code",
   "execution_count": 20,
   "metadata": {},
   "outputs": [
    {
     "data": {
      "application/vnd.jupyter.widget-view+json": {
       "model_id": "ac479d46b47c4004a8ca6a294356af4c",
       "version_major": 2,
       "version_minor": 0
      },
      "text/plain": [
       "Button(button_style='success', description='Click to refresh!', icon='bomb', style=ButtonStyle(), tooltip='Kee…"
      ]
     },
     "metadata": {},
     "output_type": "display_data"
    }
   ],
   "source": [
    "def api_button_callback(button):\n",
    "# This function gets fresh data from the API, wrangles the data, then overwrites the dataframe\n",
    "    # Refer to the access_api function to pull data\n",
    "    apidata=access_api()\n",
    "    # Refer to the wrangle_data function to clean up data, then assign the result to the global vaxvdeath dataframe\n",
    "    global vaxvdeathdf\n",
    "    vaxvdeathdf=wrangle_data(apidata)\n",
    "    # Refer to the refresh_graph function (see the graphing code in the next section) to reload the graph with new data\n",
    "    refresh_graph()\n",
    "    # Change the button icon to a star\n",
    "    apibutton.icon=\"star-o\"\n",
    "    # Disable the button post-refresh\n",
    "    apibutton.disabled=True\n",
    "\n",
    "# Our button widget   \n",
    "apibutton=wdg.Button(\n",
    "    description=\"Click to refresh!\", \n",
    "    disabled=False,\n",
    "    button_style='success',\n",
    "    tooltip=\"Keep calm and carry on\",\n",
    "    icon='bomb'\n",
    ")\n",
    "\n",
    "# Register the button callback function with the button\n",
    "apibutton.on_click(api_button_callback)\n",
    "# Display the button\n",
    "display(apibutton)"
   ]
  },
  {
   "cell_type": "markdown",
   "metadata": {},
   "source": [
    "## Graph and Analysis"
   ]
  },
  {
   "cell_type": "markdown",
   "metadata": {},
   "source": [
    "Behold - our graph!\n",
    "\n",
    "This graph compares the number of covid-19 cases, first and second vaccine doses, and deaths. The metrics can be viewed individually via the dropdown, and you can also switch between a logarithmic and linear graph, and choose a colour scheme according to your aesthetic preferences.\n",
    "\n",
    "Though the number of deaths look low compared to the vaccine and case numbers, if we look just at the deaths metric in the graph we can see that there were two large spikes between January 2020 and July 2021, with very small peaks during the period afterwards (but never as high as those first two peaks). Switching to the first dose and second dose metrics, we can see that these were primarily administered during the July 2021-September 2021 period. This could suggest the effectiveness of the vaccines against the virus. At the same time, government guidance on how covid-19 related deaths were reported was changed at the beginning of this year. For further info on this see [here](https://ukhsa.blog.gov.uk/2023/01/27/changes-to-the-way-we-report-on-covid-19-deaths/).\n",
    "\n",
    "The cases data is slightly inconsistent in that the data initially starts off as being updated every day, but appears after a point to only be updated every week or so (hence the graph looking like it is filled in). Regardless, we can see that the number of cases increases dramatically from July 2021 onwards (opposite to the number of deaths). Could there have been more prevalent testing going on? Or could the new variants have been more contagious?"
   ]
  },
  {
   "cell_type": "code",
   "execution_count": 14,
   "metadata": {},
   "outputs": [
    {
     "data": {
      "application/vnd.jupyter.widget-view+json": {
       "model_id": "c1be080e79d94cb1b0cd90ae86a28db5",
       "version_major": 2,
       "version_minor": 0
      },
      "text/plain": [
       "HBox(children=(SelectMultiple(description='Metrics:', index=(0, 1, 2, 3), options=('cases', 'firstdose', 'seco…"
      ]
     },
     "metadata": {},
     "output_type": "display_data"
    },
    {
     "data": {
      "application/vnd.jupyter.widget-view+json": {
       "model_id": "89e7ae6f507244e3904f65d1af669321",
       "version_major": 2,
       "version_minor": 0
      },
      "text/plain": [
       "VBox(children=(ToggleButtons(button_style='info', description='Colormap:', options=('rainbow', 'dark', 'pastel…"
      ]
     },
     "metadata": {},
     "output_type": "display_data"
    },
    {
     "data": {
      "application/vnd.jupyter.widget-view+json": {
       "model_id": "7eeb90a2356a4f63a4446c60096045b9",
       "version_major": 2,
       "version_minor": 0
      },
      "text/plain": [
       "Output()"
      ]
     },
     "metadata": {},
     "output_type": "display_data"
    }
   ],
   "source": [
    "# Our widgets!\n",
    "# This widget lets the user select the metric they want to view\n",
    "series=wdg.SelectMultiple(\n",
    "    options=['cases', 'firstdose', 'seconddose', 'deaths'],\n",
    "    value=['cases', 'firstdose', 'seconddose',  'deaths'],\n",
    "    rows=4,\n",
    "    description='Metrics:',\n",
    "    disabled=False\n",
    ")\n",
    "# This widget lets the user choose between a linear graph and a log graph\n",
    "scale=wdg.RadioButtons(\n",
    "    options=['linear', 'log'],\n",
    "    value='linear',\n",
    "    description='Scale:',\n",
    "    disabled=False\n",
    ")\n",
    "# This widget lets the user choose a colour scheme\n",
    "colors=wdg.ToggleButtons(\n",
    "    options=['rainbow', 'dark', 'pastel'],\n",
    "    description='Colormap:',\n",
    "    disabled=False,\n",
    "    button_style='info',\n",
    "    tooltips=['Rainbow colormap', 'Dark colormap', 'Pastel colormap'],\n",
    ")\n",
    "# List the first two widgets together horizontally, and the third underneath\n",
    "controls1=wdg.HBox([series, scale])\n",
    "controls2=wdg.VBox([colors])\n",
    "\n",
    "\n",
    "def vaxvdeath_graph(gcols, gscale, gcolor):\n",
    "# This function plots the graph\n",
    "    if gscale=='linear':\n",
    "        logscale=False\n",
    "    else:\n",
    "        logscale=True\n",
    "    ncols=len(gcols)\n",
    "    if gcolor=='rainbow':\n",
    "        cm='rainbow'\n",
    "    elif gcolor=='dark':\n",
    "        cm='Dark2'\n",
    "    else:\n",
    "        cm='Set3'\n",
    "    if ncols>0:\n",
    "        vaxvdeathdf[list(gcols)].plot(logy=logscale, title='A comparison of daily cases, vaccine first doses, and deaths', xlabel='date', ylabel='number',colormap=cm)\n",
    "        plt.show()\n",
    "    else:\n",
    "        print(\"Click to select data for graph\")\n",
    "        print(\"(Cmd-Click to select more than one category)\")\n",
    "\n",
    "def refresh_graph():\n",
    "# This function reloads the graph by changing the default value of the scale widget.\n",
    "# It is used to force a redraw of the graph with new data under the api_button_callback function.  \n",
    "    current=scale.value\n",
    "    if current==scale.options[0]:\n",
    "        other=scale.options[1]\n",
    "    else:\n",
    "        other=scale.options[0]\n",
    "    scale.value=other\n",
    "    scale.value=current\n",
    "    \n",
    "#  Link the widget outputs with the plot_graph function inputs\n",
    "graph=wdg.interactive_output(vaxvdeath_graph, {'gcols': series, 'gscale': scale, 'gcolor': colors})\n",
    "\n",
    "# Display the controls and graph\n",
    "display(controls1, controls2, graph)"
   ]
  },
  {
   "cell_type": "markdown",
   "metadata": {},
   "source": [
    "**(C) 2023 Amy Czepliewicz (a.y.czepliewicz@se23.qmul.ac.uk)**\n",
    "Based on UK Government [data](https://coronavirus.data.gov.uk/) published by [Public Health England](https://www.gov.uk/government/organisations/public-health-england) and on the [DIY Covid Dashboard Kit](https://github.com/fsmeraldi/diy-covid19dash) by Fabrizio Smeraldi. Released under the [GNU GPLv3.0 or later](https://www.gnu.org/licenses/)."
   ]
  }
 ],
 "metadata": {
  "kernelspec": {
   "display_name": "Python 3 (ipykernel)",
   "language": "python",
   "name": "python3"
  },
  "language_info": {
   "codemirror_mode": {
    "name": "ipython",
    "version": 3
   },
   "file_extension": ".py",
   "mimetype": "text/x-python",
   "name": "python",
   "nbconvert_exporter": "python",
   "pygments_lexer": "ipython3",
   "version": "3.10.13"
  }
 },
 "nbformat": 4,
 "nbformat_minor": 4
}
